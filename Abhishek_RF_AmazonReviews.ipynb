{
 "cells": [
  {
   "cell_type": "markdown",
   "metadata": {},
   "source": [
    "# CLASSIFYING AMAZON FOOD REVIEWS USING RANDOM FOREST"
   ]
  },
  {
   "cell_type": "raw",
   "metadata": {},
   "source": [
    "\n",
    "#=============  OBJECTIVE  ============#\n",
    "\n",
    "Classifying Amazon Food Reviews as positive or negative using the RANDOM FOREST classifier."
   ]
  },
  {
   "cell_type": "code",
   "execution_count": 1,
   "metadata": {},
   "outputs": [],
   "source": [
    "# Importing the libraries required for our task\n",
    "\n",
    "import sqlite3\n",
    "import pandas as pd\n",
    "import numpy as np\n",
    "import nltk\n",
    "import string\n",
    "import matplotlib.pyplot as plt\n",
    "import seaborn as sns\n",
    "\n",
    "from sklearn.feature_extraction.text import TfidfTransformer\n",
    "from sklearn.feature_extraction.text import TfidfVectorizer\n",
    "\n",
    "from sklearn.feature_extraction.text import CountVectorizer\n",
    "from sklearn.metrics import confusion_matrix\n",
    "from sklearn import metrics\n",
    "from sklearn.metrics import roc_curve, auc\n",
    "from nltk.stem.porter import PorterStemmer"
   ]
  },
  {
   "cell_type": "code",
   "execution_count": 2,
   "metadata": {},
   "outputs": [],
   "source": [
    "# Importing the required sqlite database which contains the reviews\n",
    "\n",
    "con = sqlite3.connect('database.sqlite')\n",
    "\n",
    "'''\n",
    "Our objective is to check whether the review is positive or negative.\n",
    "\n",
    "The dataset originally consists of reviews from 1 to 5. We will consider reviews which are rated as 4 and 5 to be positive, reviews \n",
    "which are rated 1 and 2 to be negative. As, we cannot draw any conclusions from review which is rated 3 star we will eliminate\n",
    "all the reviews rated 3 star.\n",
    "\n",
    "'''\n",
    "\n",
    "# Filtering out the data w/o the 3 star reviews\n",
    "\n",
    "filtered_data = pd.read_sql_query(\"\"\"SELECT * FROM Reviews WHERE Score != 3\"\"\", con) "
   ]
  },
  {
   "cell_type": "code",
   "execution_count": 3,
   "metadata": {},
   "outputs": [
    {
     "data": {
      "text/plain": [
       "array([5, 1, 4, 2], dtype=int64)"
      ]
     },
     "execution_count": 3,
     "metadata": {},
     "output_type": "execute_result"
    }
   ],
   "source": [
    "# Checking whether the data has been filtered properly\n",
    "\n",
    "filtered_data['Score'].unique()\n",
    "\n",
    "# We can see that there is no 3 star review in the data"
   ]
  },
  {
   "cell_type": "code",
   "execution_count": 4,
   "metadata": {},
   "outputs": [],
   "source": [
    "# As we have eliminated the data with 3 start reviews, we will label the remaining data(4 and 5 scores) as positive and negative(1 and 2 scores).\n",
    "\n",
    "# Creating a function to label the data\n",
    "def partition(x):\n",
    "    if x < 3:\n",
    "        return '0'\n",
    "    return '1'\n",
    "\n",
    "\n",
    "# Applying the labels to the data\n",
    "\n",
    "actualScore = filtered_data['Score']\n",
    "positiveNegative = actualScore.map(partition) \n",
    "filtered_data['Score'] = positiveNegative"
   ]
  },
  {
   "cell_type": "code",
   "execution_count": 5,
   "metadata": {},
   "outputs": [
    {
     "data": {
      "text/html": [
       "<div>\n",
       "<style scoped>\n",
       "    .dataframe tbody tr th:only-of-type {\n",
       "        vertical-align: middle;\n",
       "    }\n",
       "\n",
       "    .dataframe tbody tr th {\n",
       "        vertical-align: top;\n",
       "    }\n",
       "\n",
       "    .dataframe thead th {\n",
       "        text-align: right;\n",
       "    }\n",
       "</style>\n",
       "<table border=\"1\" class=\"dataframe\">\n",
       "  <thead>\n",
       "    <tr style=\"text-align: right;\">\n",
       "      <th></th>\n",
       "      <th>Id</th>\n",
       "      <th>ProductId</th>\n",
       "      <th>UserId</th>\n",
       "      <th>ProfileName</th>\n",
       "      <th>HelpfulnessNumerator</th>\n",
       "      <th>HelpfulnessDenominator</th>\n",
       "      <th>Score</th>\n",
       "      <th>Time</th>\n",
       "      <th>Summary</th>\n",
       "      <th>Text</th>\n",
       "    </tr>\n",
       "  </thead>\n",
       "  <tbody>\n",
       "    <tr>\n",
       "      <th>0</th>\n",
       "      <td>1</td>\n",
       "      <td>B001E4KFG0</td>\n",
       "      <td>A3SGXH7AUHU8GW</td>\n",
       "      <td>delmartian</td>\n",
       "      <td>1</td>\n",
       "      <td>1</td>\n",
       "      <td>1</td>\n",
       "      <td>1303862400</td>\n",
       "      <td>Good Quality Dog Food</td>\n",
       "      <td>I have bought several of the Vitality canned d...</td>\n",
       "    </tr>\n",
       "    <tr>\n",
       "      <th>1</th>\n",
       "      <td>2</td>\n",
       "      <td>B00813GRG4</td>\n",
       "      <td>A1D87F6ZCVE5NK</td>\n",
       "      <td>dll pa</td>\n",
       "      <td>0</td>\n",
       "      <td>0</td>\n",
       "      <td>0</td>\n",
       "      <td>1346976000</td>\n",
       "      <td>Not as Advertised</td>\n",
       "      <td>Product arrived labeled as Jumbo Salted Peanut...</td>\n",
       "    </tr>\n",
       "    <tr>\n",
       "      <th>2</th>\n",
       "      <td>3</td>\n",
       "      <td>B000LQOCH0</td>\n",
       "      <td>ABXLMWJIXXAIN</td>\n",
       "      <td>Natalia Corres \"Natalia Corres\"</td>\n",
       "      <td>1</td>\n",
       "      <td>1</td>\n",
       "      <td>1</td>\n",
       "      <td>1219017600</td>\n",
       "      <td>\"Delight\" says it all</td>\n",
       "      <td>This is a confection that has been around a fe...</td>\n",
       "    </tr>\n",
       "    <tr>\n",
       "      <th>3</th>\n",
       "      <td>4</td>\n",
       "      <td>B000UA0QIQ</td>\n",
       "      <td>A395BORC6FGVXV</td>\n",
       "      <td>Karl</td>\n",
       "      <td>3</td>\n",
       "      <td>3</td>\n",
       "      <td>0</td>\n",
       "      <td>1307923200</td>\n",
       "      <td>Cough Medicine</td>\n",
       "      <td>If you are looking for the secret ingredient i...</td>\n",
       "    </tr>\n",
       "    <tr>\n",
       "      <th>4</th>\n",
       "      <td>5</td>\n",
       "      <td>B006K2ZZ7K</td>\n",
       "      <td>A1UQRSCLF8GW1T</td>\n",
       "      <td>Michael D. Bigham \"M. Wassir\"</td>\n",
       "      <td>0</td>\n",
       "      <td>0</td>\n",
       "      <td>1</td>\n",
       "      <td>1350777600</td>\n",
       "      <td>Great taffy</td>\n",
       "      <td>Great taffy at a great price.  There was a wid...</td>\n",
       "    </tr>\n",
       "    <tr>\n",
       "      <th>5</th>\n",
       "      <td>6</td>\n",
       "      <td>B006K2ZZ7K</td>\n",
       "      <td>ADT0SRK1MGOEU</td>\n",
       "      <td>Twoapennything</td>\n",
       "      <td>0</td>\n",
       "      <td>0</td>\n",
       "      <td>1</td>\n",
       "      <td>1342051200</td>\n",
       "      <td>Nice Taffy</td>\n",
       "      <td>I got a wild hair for taffy and ordered this f...</td>\n",
       "    </tr>\n",
       "    <tr>\n",
       "      <th>6</th>\n",
       "      <td>7</td>\n",
       "      <td>B006K2ZZ7K</td>\n",
       "      <td>A1SP2KVKFXXRU1</td>\n",
       "      <td>David C. Sullivan</td>\n",
       "      <td>0</td>\n",
       "      <td>0</td>\n",
       "      <td>1</td>\n",
       "      <td>1340150400</td>\n",
       "      <td>Great!  Just as good as the expensive brands!</td>\n",
       "      <td>This saltwater taffy had great flavors and was...</td>\n",
       "    </tr>\n",
       "    <tr>\n",
       "      <th>7</th>\n",
       "      <td>8</td>\n",
       "      <td>B006K2ZZ7K</td>\n",
       "      <td>A3JRGQVEQN31IQ</td>\n",
       "      <td>Pamela G. Williams</td>\n",
       "      <td>0</td>\n",
       "      <td>0</td>\n",
       "      <td>1</td>\n",
       "      <td>1336003200</td>\n",
       "      <td>Wonderful, tasty taffy</td>\n",
       "      <td>This taffy is so good.  It is very soft and ch...</td>\n",
       "    </tr>\n",
       "    <tr>\n",
       "      <th>8</th>\n",
       "      <td>9</td>\n",
       "      <td>B000E7L2R4</td>\n",
       "      <td>A1MZYO9TZK0BBI</td>\n",
       "      <td>R. James</td>\n",
       "      <td>1</td>\n",
       "      <td>1</td>\n",
       "      <td>1</td>\n",
       "      <td>1322006400</td>\n",
       "      <td>Yay Barley</td>\n",
       "      <td>Right now I'm mostly just sprouting this so my...</td>\n",
       "    </tr>\n",
       "    <tr>\n",
       "      <th>9</th>\n",
       "      <td>10</td>\n",
       "      <td>B00171APVA</td>\n",
       "      <td>A21BT40VZCCYT4</td>\n",
       "      <td>Carol A. Reed</td>\n",
       "      <td>0</td>\n",
       "      <td>0</td>\n",
       "      <td>1</td>\n",
       "      <td>1351209600</td>\n",
       "      <td>Healthy Dog Food</td>\n",
       "      <td>This is a very healthy dog food. Good for thei...</td>\n",
       "    </tr>\n",
       "  </tbody>\n",
       "</table>\n",
       "</div>"
      ],
      "text/plain": [
       "   Id   ProductId          UserId                      ProfileName  \\\n",
       "0   1  B001E4KFG0  A3SGXH7AUHU8GW                       delmartian   \n",
       "1   2  B00813GRG4  A1D87F6ZCVE5NK                           dll pa   \n",
       "2   3  B000LQOCH0   ABXLMWJIXXAIN  Natalia Corres \"Natalia Corres\"   \n",
       "3   4  B000UA0QIQ  A395BORC6FGVXV                             Karl   \n",
       "4   5  B006K2ZZ7K  A1UQRSCLF8GW1T    Michael D. Bigham \"M. Wassir\"   \n",
       "5   6  B006K2ZZ7K   ADT0SRK1MGOEU                   Twoapennything   \n",
       "6   7  B006K2ZZ7K  A1SP2KVKFXXRU1                David C. Sullivan   \n",
       "7   8  B006K2ZZ7K  A3JRGQVEQN31IQ               Pamela G. Williams   \n",
       "8   9  B000E7L2R4  A1MZYO9TZK0BBI                         R. James   \n",
       "9  10  B00171APVA  A21BT40VZCCYT4                    Carol A. Reed   \n",
       "\n",
       "   HelpfulnessNumerator  HelpfulnessDenominator Score        Time  \\\n",
       "0                     1                       1     1  1303862400   \n",
       "1                     0                       0     0  1346976000   \n",
       "2                     1                       1     1  1219017600   \n",
       "3                     3                       3     0  1307923200   \n",
       "4                     0                       0     1  1350777600   \n",
       "5                     0                       0     1  1342051200   \n",
       "6                     0                       0     1  1340150400   \n",
       "7                     0                       0     1  1336003200   \n",
       "8                     1                       1     1  1322006400   \n",
       "9                     0                       0     1  1351209600   \n",
       "\n",
       "                                         Summary  \\\n",
       "0                          Good Quality Dog Food   \n",
       "1                              Not as Advertised   \n",
       "2                          \"Delight\" says it all   \n",
       "3                                 Cough Medicine   \n",
       "4                                    Great taffy   \n",
       "5                                     Nice Taffy   \n",
       "6  Great!  Just as good as the expensive brands!   \n",
       "7                         Wonderful, tasty taffy   \n",
       "8                                     Yay Barley   \n",
       "9                               Healthy Dog Food   \n",
       "\n",
       "                                                Text  \n",
       "0  I have bought several of the Vitality canned d...  \n",
       "1  Product arrived labeled as Jumbo Salted Peanut...  \n",
       "2  This is a confection that has been around a fe...  \n",
       "3  If you are looking for the secret ingredient i...  \n",
       "4  Great taffy at a great price.  There was a wid...  \n",
       "5  I got a wild hair for taffy and ordered this f...  \n",
       "6  This saltwater taffy had great flavors and was...  \n",
       "7  This taffy is so good.  It is very soft and ch...  \n",
       "8  Right now I'm mostly just sprouting this so my...  \n",
       "9  This is a very healthy dog food. Good for thei...  "
      ]
     },
     "execution_count": 5,
     "metadata": {},
     "output_type": "execute_result"
    }
   ],
   "source": [
    "# Checking the first few rows of the data\n",
    "\n",
    "filtered_data.head(10)\n",
    "\n",
    "# We can see that the score has been changed to positive and negative instead of 5,4,1,2"
   ]
  },
  {
   "cell_type": "code",
   "execution_count": 6,
   "metadata": {},
   "outputs": [
    {
     "data": {
      "text/plain": [
       "(525814, 10)"
      ]
     },
     "execution_count": 6,
     "metadata": {},
     "output_type": "execute_result"
    }
   ],
   "source": [
    "# Let us look at the shape of the data\n",
    "\n",
    "filtered_data.shape"
   ]
  },
  {
   "cell_type": "code",
   "execution_count": 7,
   "metadata": {},
   "outputs": [
    {
     "data": {
      "text/plain": [
       "(364173, 10)"
      ]
     },
     "execution_count": 7,
     "metadata": {},
     "output_type": "execute_result"
    }
   ],
   "source": [
    "# Dropping any duplicates if they are present in the data\n",
    "\n",
    "duplicates_dropped=filtered_data.drop_duplicates(subset={\"UserId\",\"ProfileName\",\"Time\",\"Text\"}, keep='first', inplace=False)\n",
    "duplicates_dropped.shape"
   ]
  },
  {
   "cell_type": "code",
   "execution_count": 8,
   "metadata": {},
   "outputs": [],
   "source": [
    "# Eliminating the rows where helpfulness numerator is greator than the helfulness denominator\n",
    "\n",
    "final=duplicates_dropped[duplicates_dropped.HelpfulnessNumerator<=duplicates_dropped.HelpfulnessDenominator]"
   ]
  },
  {
   "cell_type": "code",
   "execution_count": 9,
   "metadata": {},
   "outputs": [
    {
     "data": {
      "text/plain": [
       "(364171, 10)"
      ]
     },
     "execution_count": 9,
     "metadata": {},
     "output_type": "execute_result"
    }
   ],
   "source": [
    "# Taking a look at the shape of the data\n",
    "\n",
    "final.shape"
   ]
  },
  {
   "cell_type": "code",
   "execution_count": 10,
   "metadata": {},
   "outputs": [],
   "source": [
    "# We will select only the required columns of which we will filter some reviews and assign them their labels and sort them wrt time\n",
    "\n",
    "final_data = final[['ProductId','Time','Text','Score']]"
   ]
  },
  {
   "cell_type": "code",
   "execution_count": 11,
   "metadata": {},
   "outputs": [
    {
     "data": {
      "text/plain": [
       "(364171, 4)"
      ]
     },
     "execution_count": 11,
     "metadata": {},
     "output_type": "execute_result"
    }
   ],
   "source": [
    "# Checking the dimension of the data\n",
    "final_data.shape\n"
   ]
  },
  {
   "cell_type": "code",
   "execution_count": 12,
   "metadata": {},
   "outputs": [],
   "source": [
    "# Randomly selecting some reviews from the 'final_data' data\n",
    "\n",
    "# First we will extract the values from the given dataframe\n",
    "\n",
    "X=final_data.iloc[:,:].values\n",
    "\n",
    "# randomly extracting 15000 reviews from the dataset\n",
    "\n",
    "import random\n",
    "\n",
    "n = 364171\n",
    "m = 15000\n",
    "p = m/n\n",
    "\n",
    "sampled_data = [];\n",
    "\n",
    "for i in range(0,n):\n",
    "    if random.random() <= p:\n",
    "        sampled_data.append(X[i,:])"
   ]
  },
  {
   "cell_type": "code",
   "execution_count": 13,
   "metadata": {},
   "outputs": [],
   "source": [
    "# Assigning the extracted data to a dataframe\n",
    "\n",
    "names = ['ProductId','Time','Text','Score']\n",
    "\n",
    "sample = pd.DataFrame(sampled_data,columns= names)"
   ]
  },
  {
   "cell_type": "code",
   "execution_count": 14,
   "metadata": {},
   "outputs": [
    {
     "data": {
      "text/plain": [
       "(15024, 4)"
      ]
     },
     "execution_count": 14,
     "metadata": {},
     "output_type": "execute_result"
    }
   ],
   "source": [
    "# Checking the dimensions of the sampled data\n",
    "\n",
    "sample.shape"
   ]
  },
  {
   "cell_type": "code",
   "execution_count": 15,
   "metadata": {},
   "outputs": [
    {
     "data": {
      "text/html": [
       "<div>\n",
       "<style scoped>\n",
       "    .dataframe tbody tr th:only-of-type {\n",
       "        vertical-align: middle;\n",
       "    }\n",
       "\n",
       "    .dataframe tbody tr th {\n",
       "        vertical-align: top;\n",
       "    }\n",
       "\n",
       "    .dataframe thead th {\n",
       "        text-align: right;\n",
       "    }\n",
       "</style>\n",
       "<table border=\"1\" class=\"dataframe\">\n",
       "  <thead>\n",
       "    <tr style=\"text-align: right;\">\n",
       "      <th></th>\n",
       "      <th>ProductId</th>\n",
       "      <th>Time</th>\n",
       "      <th>Text</th>\n",
       "      <th>Score</th>\n",
       "    </tr>\n",
       "  </thead>\n",
       "  <tbody>\n",
       "    <tr>\n",
       "      <th>0</th>\n",
       "      <td>B001E4KFG0</td>\n",
       "      <td>1303862400</td>\n",
       "      <td>I have bought several of the Vitality canned d...</td>\n",
       "      <td>1</td>\n",
       "    </tr>\n",
       "    <tr>\n",
       "      <th>1</th>\n",
       "      <td>B006K2ZZ7K</td>\n",
       "      <td>1342051200</td>\n",
       "      <td>I got a wild hair for taffy and ordered this f...</td>\n",
       "      <td>1</td>\n",
       "    </tr>\n",
       "    <tr>\n",
       "      <th>2</th>\n",
       "      <td>B001GVISJM</td>\n",
       "      <td>1324598400</td>\n",
       "      <td>Twizzlers, Strawberry my childhood favorite ca...</td>\n",
       "      <td>1</td>\n",
       "    </tr>\n",
       "    <tr>\n",
       "      <th>3</th>\n",
       "      <td>B0019CW0HE</td>\n",
       "      <td>1311638400</td>\n",
       "      <td>Natural Balance Dry Dog Food Lamb Meal and Bro...</td>\n",
       "      <td>1</td>\n",
       "    </tr>\n",
       "    <tr>\n",
       "      <th>4</th>\n",
       "      <td>B0019CW0HE</td>\n",
       "      <td>1331164800</td>\n",
       "      <td>I fed this to my Golden Retriever and he hated...</td>\n",
       "      <td>0</td>\n",
       "    </tr>\n",
       "  </tbody>\n",
       "</table>\n",
       "</div>"
      ],
      "text/plain": [
       "    ProductId        Time                                               Text  \\\n",
       "0  B001E4KFG0  1303862400  I have bought several of the Vitality canned d...   \n",
       "1  B006K2ZZ7K  1342051200  I got a wild hair for taffy and ordered this f...   \n",
       "2  B001GVISJM  1324598400  Twizzlers, Strawberry my childhood favorite ca...   \n",
       "3  B0019CW0HE  1311638400  Natural Balance Dry Dog Food Lamb Meal and Bro...   \n",
       "4  B0019CW0HE  1331164800  I fed this to my Golden Retriever and he hated...   \n",
       "\n",
       "  Score  \n",
       "0     1  \n",
       "1     1  \n",
       "2     1  \n",
       "3     1  \n",
       "4     0  "
      ]
     },
     "execution_count": 15,
     "metadata": {},
     "output_type": "execute_result"
    }
   ],
   "source": [
    "# Checking the first few rows of the data\n",
    "\n",
    "sample.head()"
   ]
  },
  {
   "cell_type": "code",
   "execution_count": 16,
   "metadata": {},
   "outputs": [],
   "source": [
    "# Now we will sort the data according to timestamp\n",
    "\n",
    "sorted_data=sample.sort_values('Time', axis=0, ascending=True, inplace=False, kind='quicksort', na_position='last')"
   ]
  },
  {
   "cell_type": "code",
   "execution_count": 17,
   "metadata": {},
   "outputs": [
    {
     "data": {
      "text/html": [
       "<div>\n",
       "<style scoped>\n",
       "    .dataframe tbody tr th:only-of-type {\n",
       "        vertical-align: middle;\n",
       "    }\n",
       "\n",
       "    .dataframe tbody tr th {\n",
       "        vertical-align: top;\n",
       "    }\n",
       "\n",
       "    .dataframe thead th {\n",
       "        text-align: right;\n",
       "    }\n",
       "</style>\n",
       "<table border=\"1\" class=\"dataframe\">\n",
       "  <thead>\n",
       "    <tr style=\"text-align: right;\">\n",
       "      <th></th>\n",
       "      <th>ProductId</th>\n",
       "      <th>Time</th>\n",
       "      <th>Text</th>\n",
       "      <th>Score</th>\n",
       "    </tr>\n",
       "  </thead>\n",
       "  <tbody>\n",
       "    <tr>\n",
       "      <th>4752</th>\n",
       "      <td>B00006L2ZT</td>\n",
       "      <td>1036713600</td>\n",
       "      <td>Finally, a collection of the best Camper Van B...</td>\n",
       "      <td>1</td>\n",
       "    </tr>\n",
       "    <tr>\n",
       "      <th>6967</th>\n",
       "      <td>B00004RYGX</td>\n",
       "      <td>1037750400</td>\n",
       "      <td>When this movie first came out about fifteen y...</td>\n",
       "      <td>1</td>\n",
       "    </tr>\n",
       "    <tr>\n",
       "      <th>11572</th>\n",
       "      <td>B0000A0BS5</td>\n",
       "      <td>1064361600</td>\n",
       "      <td>Few things I'd like to point out:&lt;p&gt;1.  &amp;quot;...</td>\n",
       "      <td>0</td>\n",
       "    </tr>\n",
       "    <tr>\n",
       "      <th>2301</th>\n",
       "      <td>B0000D9N7U</td>\n",
       "      <td>1068940800</td>\n",
       "      <td>If you've never had real Swiss fondue, you're ...</td>\n",
       "      <td>1</td>\n",
       "    </tr>\n",
       "    <tr>\n",
       "      <th>13038</th>\n",
       "      <td>B0001392MI</td>\n",
       "      <td>1071619200</td>\n",
       "      <td>These Truffles are the absolute best tasting t...</td>\n",
       "      <td>1</td>\n",
       "    </tr>\n",
       "    <tr>\n",
       "      <th>3126</th>\n",
       "      <td>B0000CNU2Q</td>\n",
       "      <td>1072656000</td>\n",
       "      <td>This is the Japanese version of breadcrumb (pa...</td>\n",
       "      <td>1</td>\n",
       "    </tr>\n",
       "    <tr>\n",
       "      <th>11131</th>\n",
       "      <td>B0000V8HTU</td>\n",
       "      <td>1074124800</td>\n",
       "      <td>I have been drinking coffee for well over twen...</td>\n",
       "      <td>1</td>\n",
       "    </tr>\n",
       "    <tr>\n",
       "      <th>940</th>\n",
       "      <td>B000J36EQC</td>\n",
       "      <td>1075680000</td>\n",
       "      <td>I love Sleepytime Tea!  I've been drinking it ...</td>\n",
       "      <td>1</td>\n",
       "    </tr>\n",
       "    <tr>\n",
       "      <th>10176</th>\n",
       "      <td>B0000DG56C</td>\n",
       "      <td>1089417600</td>\n",
       "      <td>I find the best way to rate hot sauces on heat...</td>\n",
       "      <td>1</td>\n",
       "    </tr>\n",
       "    <tr>\n",
       "      <th>213</th>\n",
       "      <td>B000084EKD</td>\n",
       "      <td>1090972800</td>\n",
       "      <td>I haven't had a cat yet that liked this one.  ...</td>\n",
       "      <td>0</td>\n",
       "    </tr>\n",
       "    <tr>\n",
       "      <th>8688</th>\n",
       "      <td>B0000DIYK0</td>\n",
       "      <td>1092528000</td>\n",
       "      <td>There are two types of folks in this world - t...</td>\n",
       "      <td>1</td>\n",
       "    </tr>\n",
       "    <tr>\n",
       "      <th>12162</th>\n",
       "      <td>B002WB6GOO</td>\n",
       "      <td>1093305600</td>\n",
       "      <td>You can get DE coffee in USA at hollandsbest w...</td>\n",
       "      <td>1</td>\n",
       "    </tr>\n",
       "    <tr>\n",
       "      <th>10148</th>\n",
       "      <td>B000JCVCUQ</td>\n",
       "      <td>1093651200</td>\n",
       "      <td>When I am not being seduced by the \"Breakfast ...</td>\n",
       "      <td>1</td>\n",
       "    </tr>\n",
       "    <tr>\n",
       "      <th>8332</th>\n",
       "      <td>B000Q43WAU</td>\n",
       "      <td>1096848000</td>\n",
       "      <td>The \"GeniSoy\" Protein Shakes have always impre...</td>\n",
       "      <td>1</td>\n",
       "    </tr>\n",
       "    <tr>\n",
       "      <th>5261</th>\n",
       "      <td>B0002IMRVU</td>\n",
       "      <td>1097107200</td>\n",
       "      <td>Anyone who has ever visited New Orleans will m...</td>\n",
       "      <td>1</td>\n",
       "    </tr>\n",
       "  </tbody>\n",
       "</table>\n",
       "</div>"
      ],
      "text/plain": [
       "        ProductId        Time  \\\n",
       "4752   B00006L2ZT  1036713600   \n",
       "6967   B00004RYGX  1037750400   \n",
       "11572  B0000A0BS5  1064361600   \n",
       "2301   B0000D9N7U  1068940800   \n",
       "13038  B0001392MI  1071619200   \n",
       "3126   B0000CNU2Q  1072656000   \n",
       "11131  B0000V8HTU  1074124800   \n",
       "940    B000J36EQC  1075680000   \n",
       "10176  B0000DG56C  1089417600   \n",
       "213    B000084EKD  1090972800   \n",
       "8688   B0000DIYK0  1092528000   \n",
       "12162  B002WB6GOO  1093305600   \n",
       "10148  B000JCVCUQ  1093651200   \n",
       "8332   B000Q43WAU  1096848000   \n",
       "5261   B0002IMRVU  1097107200   \n",
       "\n",
       "                                                    Text Score  \n",
       "4752   Finally, a collection of the best Camper Van B...     1  \n",
       "6967   When this movie first came out about fifteen y...     1  \n",
       "11572  Few things I'd like to point out:<p>1.  &quot;...     0  \n",
       "2301   If you've never had real Swiss fondue, you're ...     1  \n",
       "13038  These Truffles are the absolute best tasting t...     1  \n",
       "3126   This is the Japanese version of breadcrumb (pa...     1  \n",
       "11131  I have been drinking coffee for well over twen...     1  \n",
       "940    I love Sleepytime Tea!  I've been drinking it ...     1  \n",
       "10176  I find the best way to rate hot sauces on heat...     1  \n",
       "213    I haven't had a cat yet that liked this one.  ...     0  \n",
       "8688   There are two types of folks in this world - t...     1  \n",
       "12162  You can get DE coffee in USA at hollandsbest w...     1  \n",
       "10148  When I am not being seduced by the \"Breakfast ...     1  \n",
       "8332   The \"GeniSoy\" Protein Shakes have always impre...     1  \n",
       "5261   Anyone who has ever visited New Orleans will m...     1  "
      ]
     },
     "execution_count": 17,
     "metadata": {},
     "output_type": "execute_result"
    }
   ],
   "source": [
    "# Checking if the data has been sorted or not\n",
    "\n",
    "sorted_data.head(15)"
   ]
  },
  {
   "cell_type": "code",
   "execution_count": 18,
   "metadata": {},
   "outputs": [],
   "source": [
    "# We can see that the data has been sorted wrt time, now we will only consider the 'Text' and 'Score' columns henceforth\n",
    "\n",
    "sorted_final = sorted_data[['Text','Score']]\n"
   ]
  },
  {
   "cell_type": "code",
   "execution_count": 19,
   "metadata": {},
   "outputs": [
    {
     "data": {
      "text/html": [
       "<div>\n",
       "<style scoped>\n",
       "    .dataframe tbody tr th:only-of-type {\n",
       "        vertical-align: middle;\n",
       "    }\n",
       "\n",
       "    .dataframe tbody tr th {\n",
       "        vertical-align: top;\n",
       "    }\n",
       "\n",
       "    .dataframe thead th {\n",
       "        text-align: right;\n",
       "    }\n",
       "</style>\n",
       "<table border=\"1\" class=\"dataframe\">\n",
       "  <thead>\n",
       "    <tr style=\"text-align: right;\">\n",
       "      <th></th>\n",
       "      <th>Text</th>\n",
       "      <th>Score</th>\n",
       "    </tr>\n",
       "  </thead>\n",
       "  <tbody>\n",
       "    <tr>\n",
       "      <th>4752</th>\n",
       "      <td>Finally, a collection of the best Camper Van B...</td>\n",
       "      <td>1</td>\n",
       "    </tr>\n",
       "    <tr>\n",
       "      <th>6967</th>\n",
       "      <td>When this movie first came out about fifteen y...</td>\n",
       "      <td>1</td>\n",
       "    </tr>\n",
       "    <tr>\n",
       "      <th>11572</th>\n",
       "      <td>Few things I'd like to point out:&lt;p&gt;1.  &amp;quot;...</td>\n",
       "      <td>0</td>\n",
       "    </tr>\n",
       "    <tr>\n",
       "      <th>2301</th>\n",
       "      <td>If you've never had real Swiss fondue, you're ...</td>\n",
       "      <td>1</td>\n",
       "    </tr>\n",
       "    <tr>\n",
       "      <th>13038</th>\n",
       "      <td>These Truffles are the absolute best tasting t...</td>\n",
       "      <td>1</td>\n",
       "    </tr>\n",
       "  </tbody>\n",
       "</table>\n",
       "</div>"
      ],
      "text/plain": [
       "                                                    Text Score\n",
       "4752   Finally, a collection of the best Camper Van B...     1\n",
       "6967   When this movie first came out about fifteen y...     1\n",
       "11572  Few things I'd like to point out:<p>1.  &quot;...     0\n",
       "2301   If you've never had real Swiss fondue, you're ...     1\n",
       "13038  These Truffles are the absolute best tasting t...     1"
      ]
     },
     "execution_count": 19,
     "metadata": {},
     "output_type": "execute_result"
    }
   ],
   "source": [
    "# Checking the first few rows of the data to ensure we have the right data\n",
    "\n",
    "sorted_final.head()"
   ]
  },
  {
   "cell_type": "code",
   "execution_count": 20,
   "metadata": {},
   "outputs": [
    {
     "name": "stdout",
     "output_type": "stream",
     "text": [
      "0\n",
      "Finally, a collection of the best Camper Van Beethoven albums (I think there is one album missing from the band, a  major label release with intentionally clean over-production).  I had been waiting years for this dream CD, as I only possessed each one in vinyl.  <p>Some people like to listen to a full album that has a recognizable identity in its sonic experience.  You will not get that from Camper, as they instead offer a faint, mysterious familiarity in musical pieces that can tweak your ears in two opposing directions, even during the simplist compositions.  If that sounds appealling, you can correctly guess that boredom cannot maintain a presence with this compilation.<p>Categorizing this music is impossible, again due to so many style changes.  Psycho-country?  Unpretentious garage-rock with arena-sized talent?  Low-fi Hillbilly Jazz?  Spraycan Art-rock?  Gritty Underground Surf? Poor rich kids with Mischievous Aspirations transferring their energy into music? Kerouac whack?  How about calling it a \"Flexible Soup\".  It's anything but smooth, yet occassionally you find David Lowery's penchant for small club-guitar rock sneaking through (after CVB dismantled, he became the leader of the successful pop-rock group, Cracker).  It may be easier to instead think of the band as a group of hyper-static fellows whose medications are almost, but not quite at the right dosage.  They're simply possessed by friendly demons with a spiritual intent to entertain and cause wonder. <p>Each album collectively draws numerous inspirations and styles, completely entertaining the listener through lyrics and musicianship on a variety of traditional and obscure instruments.  One can only imagine the pure enjoyment the band had while first writing then performing these before an audience.  For two decades now, I've held a relentless belief that CVB would make the most amusing backyard-party band -- sure to make Granmma Nelly dance alongside her pierced third generation of family one moment and then cover her bleeding ears when the next song begins.  However, I believe the band's intent is not to frighten or shock, but to instead expose the wealth of musical styles that one listener despises while another reaches a glee plateau.  Be sure that these same two listeners will switch positions when a later tune begins.  Are you prepared to enjoy the best of many worlds?<p>Picturesque landscapes are lyrically drawn with a slacker-like intelligence in unimportant poignancy, the next moment you are drawn into a global hoe-down, followed then by crafty psychedelica mixed with raw instrumentals, closing with an guitar orchestra jamout with lead played by a screaming violin chant.  Add a half-tablespoon of sugar Wiseguy and serve.  <p>Add this to your collection if you appreciate bands that are like no other.  Some tracks will prompt you to ask \"Why?\", yet with an immediate second thought you'll smile and say \"Why hasn't Anyone Else?\"<p>[I noticed that CVB had recently made a handful of live performances after a long time apart.  I've caught several of their shows and recommend all to give your mind a jolt of electricity that is surprisingly pleasant.  You will walk away wide-eyed at the unrealized potential and wasted energy we swallow in 99% of today's music. ]\n"
     ]
    }
   ],
   "source": [
    "# The next task is to clean the text data so that it can be fed to the model\n",
    "\n",
    "# Checking if there are unknown elements in the data\n",
    "\n",
    "# find sentences containing HTML tags\n",
    "\n",
    "import re\n",
    "\n",
    "i=0;\n",
    "for sent in sorted_final['Text'].values:\n",
    "    if (len(re.findall('<.*?>', sent))):\n",
    "        print(i)\n",
    "        print(sent)\n",
    "        break;\n",
    "    i += 1;   \n",
    "    \n",
    "# We can see that the data contains html tags, we will need to remove those"
   ]
  },
  {
   "cell_type": "code",
   "execution_count": 21,
   "metadata": {},
   "outputs": [
    {
     "name": "stdout",
     "output_type": "stream",
     "text": [
      "[nltk_data] Downloading package stopwords to\n",
      "[nltk_data]     C:\\Users\\kulkarni\\AppData\\Roaming\\nltk_data...\n",
      "[nltk_data]   Package stopwords is already up-to-date!\n"
     ]
    }
   ],
   "source": [
    "'''\n",
    "We will perform the data cleaning steps on the text data.\n",
    "For that we will import some packages for stopwords removal, word stemmatization and cleaning html and punctuation marks.\n",
    "'''\n",
    "import re\n",
    "from nltk.corpus import stopwords\n",
    "\n",
    "nltk.download('stopwords')\n",
    "\n",
    "stop = set(stopwords.words('english')) #set of stopwords\n",
    "sno = nltk.stem.SnowballStemmer('english') #initialising the snowball stemmer\n",
    "\n",
    "def cleanhtml(sentence): #function to clean the word of any html-tags\n",
    "    cleanr = re.compile('<.*?>')\n",
    "    cleantext = re.sub(cleanr, ' ', sentence)\n",
    "    return cleantext\n",
    "def cleanpunc(sentence): #function to clean the word of any punctuation or special characters\n",
    "    cleaned = re.sub(r'[?|!|\\'|\"|#]',r'',sentence)\n",
    "    cleaned = re.sub(r'[.|,|)|(|\\|/]',r' ',cleaned)\n",
    "    return  cleaned"
   ]
  },
  {
   "cell_type": "code",
   "execution_count": 22,
   "metadata": {},
   "outputs": [],
   "source": [
    "#Code for implementing step-by-step the checks mentioned in the pre-processing phase\n",
    "\n",
    "i=0\n",
    "str1=' '\n",
    "final_string=[]\n",
    "all_positive_words=[] # store words from +ve reviews here\n",
    "all_negative_words=[] # store words from -ve reviews here.\n",
    "s=''\n",
    "for sent in sorted_final['Text'].values:\n",
    "    filtered_sentence=[]\n",
    "    #print(sent);\n",
    "    sent=cleanhtml(sent) # remove HTMl tags\n",
    "    for w in sent.split():\n",
    "        for cleaned_words in cleanpunc(w).split():\n",
    "            if((cleaned_words.isalpha()) & (len(cleaned_words)>2)):    \n",
    "                if(cleaned_words.lower() not in stop):\n",
    "                    s=(sno.stem(cleaned_words.lower())).encode('utf8')\n",
    "                    filtered_sentence.append(s)\n",
    "                    if (final['Score'].values)[i] == 'positive': \n",
    "                        all_positive_words.append(s) #list of all words used to describe positive reviews\n",
    "                    if(final['Score'].values)[i] == 'negative':\n",
    "                        all_negative_words.append(s) #list of all words used to describe negative reviews reviews\n",
    "                else:\n",
    "                    continue\n",
    "            else:\n",
    "                continue \n",
    "    #print(filtered_sentence)\n",
    "    str1 = b\" \".join(filtered_sentence) #final string of cleaned words\n",
    "    #print(\"***********************************************************************\")\n",
    "    \n",
    "    final_string.append(str1)\n",
    "    i+=1"
   ]
  },
  {
   "cell_type": "code",
   "execution_count": 23,
   "metadata": {},
   "outputs": [
    {
     "name": "stderr",
     "output_type": "stream",
     "text": [
      "C:\\Users\\kulkarni\\Anaconda3\\lib\\site-packages\\ipykernel_launcher.py:1: SettingWithCopyWarning: \n",
      "A value is trying to be set on a copy of a slice from a DataFrame.\n",
      "Try using .loc[row_indexer,col_indexer] = value instead\n",
      "\n",
      "See the caveats in the documentation: http://pandas.pydata.org/pandas-docs/stable/indexing.html#indexing-view-versus-copy\n",
      "  \"\"\"Entry point for launching an IPython kernel.\n"
     ]
    }
   ],
   "source": [
    "sorted_final['Cleaned_Text'] = final_string"
   ]
  },
  {
   "cell_type": "markdown",
   "metadata": {},
   "source": [
    "# We will do the classification based on various representations of the text data i.e BoW, Tf-Idf"
   ]
  },
  {
   "cell_type": "markdown",
   "metadata": {},
   "source": [
    "# Using the Bag of Words text representation to create our first RandomForest models"
   ]
  },
  {
   "cell_type": "code",
   "execution_count": 24,
   "metadata": {},
   "outputs": [],
   "source": [
    "# Creating the BoW representation of the text\n",
    "\n",
    "count_vect = CountVectorizer() #in scikit-learn\n",
    "final_counts = count_vect.fit_transform(sorted_final['Cleaned_Text'].values).todense()"
   ]
  },
  {
   "cell_type": "code",
   "execution_count": 25,
   "metadata": {},
   "outputs": [],
   "source": [
    "# Assigning the final_tf_idf data to 'X' variable\n",
    "\n",
    "X = final_counts"
   ]
  },
  {
   "cell_type": "code",
   "execution_count": 26,
   "metadata": {},
   "outputs": [],
   "source": [
    "# Assinging the score to 'y' variable\n",
    "\n",
    "y = np.array(sorted_final['Score'])"
   ]
  },
  {
   "cell_type": "markdown",
   "metadata": {},
   "source": [
    "# We will first split the data into train and test sets, then split the train data in to train and cross-validation sets"
   ]
  },
  {
   "cell_type": "code",
   "execution_count": 27,
   "metadata": {},
   "outputs": [],
   "source": [
    "# Splitting the data into train test sets\n",
    "\n",
    "from sklearn.model_selection import train_test_split\n",
    "\n",
    "X_train, X_test, y_train, y_test = train_test_split(X, y, test_size=0.3) # Splitting train test with 70:30 ratio\n",
    "\n",
    "\n"
   ]
  },
  {
   "cell_type": "code",
   "execution_count": 28,
   "metadata": {},
   "outputs": [],
   "source": [
    "# Splitting the train data into cross validation and test datasets\n",
    "\n",
    "X_tr, X_CV, y_tr, y_CV = train_test_split(X_train, y_train, test_size=0.3) # Splitting train cross-val with 70:30 ratio"
   ]
  },
  {
   "cell_type": "markdown",
   "metadata": {},
   "source": [
    "# We will be using the RandomForestClassifier algorithm to classify the data as positive and negative. Here, we will use  'n_estimator' as the hyperparameter which will take various values to determine the best estimator depending upon the missclassification error."
   ]
  },
  {
   "cell_type": "code",
   "execution_count": null,
   "metadata": {},
   "outputs": [],
   "source": []
  },
  {
   "cell_type": "code",
   "execution_count": 29,
   "metadata": {},
   "outputs": [],
   "source": [
    "\n",
    "\n",
    "from sklearn.ensemble import RandomForestClassifier\n",
    "from sklearn.metrics import accuracy_score\n",
    "\n",
    "# We have taken the following values for 'alpha'\n",
    "estimators = [10,50,100,200]\n",
    "accuracy_scores = []\n",
    "\n",
    "for i in estimators:\n",
    "    rf = RandomForestClassifier(n_estimators=i)\n",
    "    rf.fit(X_tr, y_tr)\n",
    "    pred_bow = rf.predict(X_CV)\n",
    "    \n",
    "    # evaluate CV accuracy\n",
    "    acc_bow = accuracy_score(y_CV, pred_bow, normalize=True) # * float(100)\n",
    "    accuracy_scores.append(acc_bow)"
   ]
  },
  {
   "cell_type": "code",
   "execution_count": 30,
   "metadata": {},
   "outputs": [
    {
     "name": "stdout",
     "output_type": "stream",
     "text": [
      "\n",
      "The optimal depth is 100.\n"
     ]
    },
    {
     "data": {
      "image/png": "[encoded data removed]",
      "text/plain": [
       "<matplotlib.figure.Figure at 0x182b00f0>"
      ]
     },
     "metadata": {},
     "output_type": "display_data"
    },
    {
     "name": "stdout",
     "output_type": "stream",
     "text": [
      "the misclassification error for each estimator value is :  [0.138 0.135 0.129 0.133]\n"
     ]
    }
   ],
   "source": [
    "# Calculating the miss-classification error\n",
    "MissClErrBow = [1-x for x in accuracy_scores]\n",
    "\n",
    "# determining the best depth\n",
    "optimal_estimators = estimators[MissClErrBow.index(min(MissClErrBow))]\n",
    "print('\\nThe optimal depth is %d.' % optimal_estimators)\n",
    "\n",
    "# importing matplotlib\n",
    "import matplotlib.pyplot as plt\n",
    "\n",
    "plt.plot(estimators,MissClErrBow)\n",
    "\n",
    "for xy in zip(estimators, np.round(MissClErrBow,3)):\n",
    "    plt.annotate('(%s, %s)' % xy, xy=xy, textcoords='data')\n",
    "\n",
    "plt.xlabel('Estimators')\n",
    "plt.ylabel('Misclassification Error')\n",
    "plt.show()\n",
    "\n",
    "print(\"the misclassification error for each estimator value is : \", np.round(MissClErrBow,3))"
   ]
  },
  {
   "cell_type": "markdown",
   "metadata": {},
   "source": [
    "# We can see that for estimator value of 100 we get minimum missclassification error."
   ]
  },
  {
   "cell_type": "markdown",
   "metadata": {},
   "source": [
    "# Creating a Random Forest model with BoW text representation with estimator value of 100."
   ]
  },
  {
   "cell_type": "code",
   "execution_count": 31,
   "metadata": {},
   "outputs": [
    {
     "name": "stdout",
     "output_type": "stream",
     "text": [
      "\n",
      "The accuracy of the Random Forest Classifier for depth = 100 is 86.626479%\n"
     ]
    }
   ],
   "source": [
    "rf_bow_final = RandomForestClassifier(n_estimators=100)\n",
    "rf_bow_final.fit(X_tr, y_tr)\n",
    "pred_bow_final = rf_bow_final.predict(X_test)\n",
    "\n",
    "# evaluate CV accuracy\n",
    "acc_bow = accuracy_score(y_test, pred_bow_final, normalize=True) * float(100)\n",
    "\n",
    "print('\\nThe accuracy of the Random Forest Classifier for depth = %d is %f%%' % (optimal_estimators, acc_bow))\n"
   ]
  },
  {
   "cell_type": "code",
   "execution_count": null,
   "metadata": {},
   "outputs": [],
   "source": []
  },
  {
   "cell_type": "code",
   "execution_count": null,
   "metadata": {},
   "outputs": [],
   "source": []
  },
  {
   "cell_type": "markdown",
   "metadata": {},
   "source": [
    "# Using the TF-IDF text representation to create our Naive Bayes models"
   ]
  },
  {
   "cell_type": "code",
   "execution_count": 32,
   "metadata": {},
   "outputs": [],
   "source": [
    "# In this stage we have initialized the tf-idf vectorizer and applied it to the text data which has been stored in the final_tf_idf vriable\n",
    "\n",
    "tf_idf_vect = TfidfVectorizer()\n",
    "final_tf_idf = tf_idf_vect.fit_transform(sorted_final['Cleaned_Text'].values).todense()"
   ]
  },
  {
   "cell_type": "code",
   "execution_count": 34,
   "metadata": {},
   "outputs": [],
   "source": [
    "# Assigning the final_tf_idf data to 'X1' variable\n",
    "\n",
    "X1 = final_tf_idf"
   ]
  },
  {
   "cell_type": "code",
   "execution_count": 35,
   "metadata": {},
   "outputs": [],
   "source": [
    "# Assinging the score to 'y1' variable\n",
    "\n",
    "y1 = np.array(sorted_final['Score'])"
   ]
  },
  {
   "cell_type": "code",
   "execution_count": null,
   "metadata": {},
   "outputs": [],
   "source": [
    "# Splitting the data into train test sets\n",
    "\n",
    "from sklearn.model_selection import train_test_split\n",
    "\n",
    "X_train1, X_test1, y_train1, y_test1 = train_test_split(X1, y1, test_size=0.3) # Splitting train test with 70:30 ratio"
   ]
  },
  {
   "cell_type": "code",
   "execution_count": 37,
   "metadata": {},
   "outputs": [],
   "source": [
    "# Splitting the train data into train and cross validation sets\n",
    "\n",
    "X_tr1, X_CV1, y_tr1, y_CV1 = train_test_split(X_train1, y_train1, test_size=0.3) # Splitting train cross-val with 70:30 ratio"
   ]
  },
  {
   "cell_type": "code",
   "execution_count": 1,
   "metadata": {},
   "outputs": [
    {
     "data": {
      "text/plain": [
       "\"from sklearn.ensemble import RandomForestClassifier\\nfrom sklearn.metrics import accuracy_score\\n\\n# We have taken the following values for 'alpha'\\nestimators = [10,50,100,200]\\naccuracy_scores_tfidf = []\\n\\nfor i in estimators:\\n    rf_tfidf = RandomForestClassifier(n_estimators=i)\\n    rf_tfidf.fit(X_tr1, y_tr1)\\n    pred_tfidf = rf.predict(X_CV1)\\n    \\n    # evaluate CV accuracy\\n    acc_tfidf = accuracy_score(y_CV1, pred_tfidf, normalize=True) # * float(100)\\n    accuracy_scores_tfidf.append(acc_tfidf)\""
      ]
     },
     "execution_count": 1,
     "metadata": {},
     "output_type": "execute_result"
    }
   ],
   "source": [
    "\n",
    "from sklearn.ensemble import RandomForestClassifier\n",
    "from sklearn.metrics import accuracy_score\n",
    "\n",
    "# We have taken the following values for 'alpha'\n",
    "estimators = [10,50,100,200]\n",
    "accuracy_scores_tfidf = []\n",
    "\n",
    "for i in estimators:\n",
    "    rf_tfidf = RandomForestClassifier(n_estimators=i)\n",
    "    rf_tfidf.fit(X_tr1, y_tr1)\n",
    "    pred_tfidf = rf.predict(X_CV1)\n",
    "    \n",
    "    # evaluate CV accuracy\n",
    "    acc_tfidf = accuracy_score(y_CV1, pred_tfidf, normalize=True) # * float(100)\n",
    "    accuracy_scores_tfidf.append(acc_tfidf)\n"
   ]
  },
  {
   "cell_type": "code",
   "execution_count": null,
   "metadata": {},
   "outputs": [],
   "source": [
    "# Calculating the miss-classification error\n",
    "MissClErrTfidf = [1-x for x in accuracy_scores_tfidf]\n",
    "\n",
    "# determining the best depth\n",
    "optimal_estimators = depth[MissClErrTfidf.index(min(MissClErrTfidf))]\n",
    "print('\\nThe optimal depth is %d.' % optimal_estimators)\n",
    "\n",
    "# importing matplotlib\n",
    "import matplotlib.pyplot as plt\n",
    "\n",
    "plt.plot(estimators,MissClErrTfidf)\n",
    "\n",
    "for xy in zip(depth, np.round(MissClErrTfidf,3)):\n",
    "    plt.annotate('(%s, %s)' % xy, xy=xy, textcoords='data')\n",
    "\n",
    "plt.xlabel('Estimators')\n",
    "plt.ylabel('Misclassification Error')\n",
    "plt.show()\n",
    "\n",
    "print(\"the misclassification error for each estimator value is : \", np.round(MissClErrTfidf,3))"
   ]
  },
  {
   "cell_type": "markdown",
   "metadata": {},
   "source": [
    "# Using the W2Vec representation of the text data to apply the Random Forest Classifier"
   ]
  },
  {
   "cell_type": "code",
   "execution_count": 24,
   "metadata": {},
   "outputs": [
    {
     "name": "stderr",
     "output_type": "stream",
     "text": [
      "C:\\Users\\kulkarni\\Anaconda3\\lib\\site-packages\\gensim\\utils.py:1197: UserWarning: detected Windows; aliasing chunkize to chunkize_serial\n",
      "  warnings.warn(\"detected Windows; aliasing chunkize to chunkize_serial\")\n"
     ]
    }
   ],
   "source": [
    "# Importing the required models for the project\n",
    "\n",
    "from gensim.models import Word2Vec\n",
    "from gensim.models import KeyedVectors\n",
    "import pickle"
   ]
  },
  {
   "cell_type": "code",
   "execution_count": 25,
   "metadata": {},
   "outputs": [],
   "source": [
    "import gensim\n",
    "i=0\n",
    "list_of_sent=[]\n",
    "for sent in sorted_final['Text'].values:\n",
    "    filtered_sentence=[]\n",
    "    sent=cleanhtml(sent)\n",
    "    for w in sent.split():\n",
    "        for cleaned_words in cleanpunc(w).split():\n",
    "            if(cleaned_words.isalpha()):    \n",
    "                filtered_sentence.append(cleaned_words.lower())\n",
    "            else:\n",
    "                continue \n",
    "    list_of_sent.append(filtered_sentence)\n",
    "    "
   ]
  },
  {
   "cell_type": "code",
   "execution_count": 26,
   "metadata": {},
   "outputs": [],
   "source": [
    "w2v_model=gensim.models.Word2Vec(list_of_sent,min_count=5,size=50, workers=3)"
   ]
  },
  {
   "cell_type": "code",
   "execution_count": 27,
   "metadata": {},
   "outputs": [
    {
     "name": "stdout",
     "output_type": "stream",
     "text": [
      "7874\n"
     ]
    }
   ],
   "source": [
    "words = list(w2v_model.wv.vocab)\n",
    "print(len(words))"
   ]
  },
  {
   "cell_type": "markdown",
   "metadata": {},
   "source": [
    "# Creating an Avg W2Vec representation of each review"
   ]
  },
  {
   "cell_type": "code",
   "execution_count": 28,
   "metadata": {},
   "outputs": [
    {
     "name": "stdout",
     "output_type": "stream",
     "text": [
      "15024\n",
      "50\n"
     ]
    }
   ],
   "source": [
    "# Computing the Avg W2Vec representation of each review and storing it in 'sent_vectors' list\n",
    "\n",
    "sent_vectors = []; # the avg-w2v for each sentence/review is stored in this list\n",
    "for sent in list_of_sent: # for each review/sentence\n",
    "    sent_vec = np.zeros(50) # as word vectors are of zero length\n",
    "    cnt_words =0; # num of words with a valid vector in the sentence/review\n",
    "    for word in sent: # for each word in a review/sentence\n",
    "        try:\n",
    "            vec = w2v_model.wv[word]\n",
    "            sent_vec += vec\n",
    "            cnt_words += 1\n",
    "        except:\n",
    "            pass\n",
    "    sent_vec /= cnt_words\n",
    "    sent_vectors.append(sent_vec)\n",
    "print(len(sent_vectors))\n",
    "print(len(sent_vectors[0]))"
   ]
  },
  {
   "cell_type": "code",
   "execution_count": 29,
   "metadata": {},
   "outputs": [],
   "source": [
    "# Storing the list in a variable 'X2'\n",
    "\n",
    "X2 = sent_vectors"
   ]
  },
  {
   "cell_type": "code",
   "execution_count": 30,
   "metadata": {},
   "outputs": [],
   "source": [
    "# Storing the review score in a 'y2' variable\n",
    "\n",
    "y2 = sorted_final['Score']"
   ]
  },
  {
   "cell_type": "code",
   "execution_count": 32,
   "metadata": {},
   "outputs": [],
   "source": [
    "# Splitting the data into train test sets\n",
    "\n",
    "from sklearn.model_selection import train_test_split\n",
    "\n",
    "X_train2, X_test2, y_train2, y_test2 = train_test_split(X2, y2, test_size=0.3) # Splitting train test with 70:30 ratio"
   ]
  },
  {
   "cell_type": "code",
   "execution_count": 33,
   "metadata": {},
   "outputs": [],
   "source": [
    "# Splitting the train data into train and cross validation sets\n",
    "\n",
    "X_tr2, X_CV2, y_tr2, y_CV2 = train_test_split(X_train2, y_train2, test_size=0.3) # Splitting train cross-val with 70:30 ratio"
   ]
  },
  {
   "cell_type": "code",
   "execution_count": 34,
   "metadata": {},
   "outputs": [],
   "source": [
    "\n",
    "from sklearn.ensemble import RandomForestClassifier\n",
    "from sklearn.metrics import accuracy_score\n",
    "\n",
    "# We have taken the following values for 'alpha'\n",
    "estimators = [10,50,100,200]\n",
    "accuracy_scores_avgw2vec = []\n",
    "\n",
    "for i in estimators:\n",
    "    rf_avgw2vec = RandomForestClassifier(n_estimators=i)\n",
    "    rf_avgw2vec.fit(X_tr2, y_tr2)\n",
    "    pred_avgw2vec = rf_avgw2vec.predict(X_CV2)\n",
    "    \n",
    "    # evaluate CV accuracy\n",
    "    acc_avgw2vec = accuracy_score(y_CV2, pred_avgw2vec, normalize=True) # * float(100)\n",
    "    accuracy_scores_avgw2vec.append(acc_avgw2vec)\n",
    "    "
   ]
  },
  {
   "cell_type": "code",
   "execution_count": 37,
   "metadata": {},
   "outputs": [
    {
     "name": "stdout",
     "output_type": "stream",
     "text": [
      "\n",
      "The optimal depth is 100.\n"
     ]
    },
    {
     "data": {
      "image/png": "[encoded data removed]",
      "text/plain": [
       "<matplotlib.figure.Figure at 0x38a39320>"
      ]
     },
     "metadata": {},
     "output_type": "display_data"
    },
    {
     "name": "stdout",
     "output_type": "stream",
     "text": [
      "the misclassification error for each estimator value is :  [0.161 0.152 0.15  0.15 ]\n"
     ]
    }
   ],
   "source": [
    "# Calculating the miss-classification error\n",
    "MissClErrAvgW2Vec = [1-x for x in accuracy_scores_avgw2vec]\n",
    "\n",
    "# determining the best depth\n",
    "optimal_estimators = estimators[MissClErrAvgW2Vec.index(min(MissClErrAvgW2Vec))]\n",
    "print('\\nThe optimal depth is %d.' % optimal_estimators)\n",
    "\n",
    "# importing matplotlib\n",
    "import matplotlib.pyplot as plt\n",
    "\n",
    "plt.plot(estimators,MissClErrAvgW2Vec)\n",
    "\n",
    "for xy in zip(estimators, np.round(MissClErrAvgW2Vec,3)):\n",
    "    plt.annotate('(%s, %s)' % xy, xy=xy, textcoords='data')\n",
    "\n",
    "plt.xlabel('Estimators')\n",
    "plt.ylabel('Misclassification Error')\n",
    "plt.show()\n",
    "\n",
    "print(\"the misclassification error for each estimator value is : \", np.round(MissClErrAvgW2Vec,3))"
   ]
  },
  {
   "cell_type": "markdown",
   "metadata": {},
   "source": [
    "# We can see that for the estimator value of 100 we get the minimum missclassification error."
   ]
  },
  {
   "cell_type": "markdown",
   "metadata": {},
   "source": [
    "# Creating a Random Forest model with avgW2Vec text representation with an estimator value of 100"
   ]
  },
  {
   "cell_type": "code",
   "execution_count": 38,
   "metadata": {},
   "outputs": [
    {
     "name": "stdout",
     "output_type": "stream",
     "text": [
      "\n",
      "The accuracy of the Random Forest Classifier for depth = 100 is 84.405501%\n"
     ]
    }
   ],
   "source": [
    "rf_avgw2vec = RandomForestClassifier(n_estimators=100)\n",
    "rf_avgw2vec.fit(X_tr2, y_tr2)\n",
    "pred_avgw2vec = rf_avgw2vec.predict(X_test2)\n",
    "\n",
    "# evaluate CV accuracy\n",
    "acc_avgw2vec = accuracy_score(y_test2, pred_avgw2vec, normalize=True) * float(100)\n",
    "\n",
    "print('\\nThe accuracy of the Random Forest Classifier for depth = %d is %f%%' % (optimal_estimators, acc_avgw2vec))\n"
   ]
  },
  {
   "cell_type": "markdown",
   "metadata": {},
   "source": [
    "# Creating a Tf-Idf weighted W2Vec representation of each review"
   ]
  },
  {
   "cell_type": "code",
   "execution_count": 40,
   "metadata": {},
   "outputs": [
    {
     "name": "stderr",
     "output_type": "stream",
     "text": [
      "C:\\Users\\kulkarni\\Anaconda3\\lib\\site-packages\\ipykernel_launcher.py:23: RuntimeWarning: invalid value encountered in true_divide\n"
     ]
    }
   ],
   "source": [
    "tf_idf_vect = TfidfVectorizer()\n",
    "final_tf_idf = tf_idf_vect.fit_transform(sorted_final['Cleaned_Text'].values).todense()\n",
    "\n",
    "# TF-IDF weighted Word2Vec\n",
    "tfidf_feat = tf_idf_vect.get_feature_names() # tfidf words/col-names\n",
    "# final_tf_idf is the sparse matrix with row= sentence, col=word and cell_val = tfidf\n",
    "\n",
    "tfidf_sent_vectors = []; # the tfidf-w2v for each sentence/review is stored in this list\n",
    "row=0;\n",
    "for sent in list_of_sent: # for each review/sentence\n",
    "    sent_vec = np.zeros(50) # as word vectors are of zero length\n",
    "    weight_sum =0; # num of words with a valid vector in the sentence/review\n",
    "    for word in sent: # for each word in a review/sentence\n",
    "        try:\n",
    "            vec = w2v_model.wv[word]\n",
    "            # obtain the tf_idfidf of a word in a sentence/review\n",
    "            tf_idf = final_tf_idf[row, tfidf_feat.index(word)]\n",
    "            #tfidf = final_tf_idf[row, tfidf_feat.index(word)]\n",
    "            sent_vec += (vec * tf_idf)\n",
    "            weight_sum += tf_idf\n",
    "        except:\n",
    "            pass\n",
    "    sent_vec /= weight_sum\n",
    "    tfidf_sent_vectors.append(sent_vec)\n",
    "    row += 1"
   ]
  },
  {
   "cell_type": "code",
   "execution_count": 41,
   "metadata": {},
   "outputs": [
    {
     "data": {
      "text/plain": [
       "True"
      ]
     },
     "execution_count": 41,
     "metadata": {},
     "output_type": "execute_result"
    }
   ],
   "source": [
    "# Checking for any 'NaN' values in the data\n",
    "\n",
    "np.isnan(tfidf_sent_vectors).any()\n",
    "\n",
    "# We can see that there are na values in the data"
   ]
  },
  {
   "cell_type": "code",
   "execution_count": 42,
   "metadata": {},
   "outputs": [],
   "source": [
    "# We will replace all the 'Nan' values w/ mean of the respective columns\n",
    "\n",
    "\n",
    "from sklearn.preprocessing import Imputer\n",
    "imp = Imputer(missing_values='NaN', strategy='mean', axis=0)\n",
    "data_tfidf = imp.fit_transform(tfidf_sent_vectors) # Assigning the imputed matrix w/o Nan values to data variable"
   ]
  },
  {
   "cell_type": "code",
   "execution_count": 43,
   "metadata": {},
   "outputs": [
    {
     "data": {
      "text/plain": [
       "False"
      ]
     },
     "execution_count": 43,
     "metadata": {},
     "output_type": "execute_result"
    }
   ],
   "source": [
    "# Checking if our imputation has succeded\n",
    "\n",
    "np.isnan(data_tfidf).any()\n",
    "\n",
    "# We can see that there are no na values any more."
   ]
  },
  {
   "cell_type": "code",
   "execution_count": 44,
   "metadata": {},
   "outputs": [],
   "source": [
    "# Assigning the 'data_tfidf' matrix to 'X3' variable\n",
    "\n",
    "X3 = data_tfidf"
   ]
  },
  {
   "cell_type": "code",
   "execution_count": 45,
   "metadata": {},
   "outputs": [],
   "source": [
    "# Assigning the scores to the 'y3' variable\n",
    "\n",
    "y3 = sorted_final['Score']"
   ]
  },
  {
   "cell_type": "code",
   "execution_count": 46,
   "metadata": {},
   "outputs": [],
   "source": [
    "# Splitting the data into train test sets\n",
    "\n",
    "#from sklearn.model_selection import train_test_split\n",
    "\n",
    "X_train3, X_test3, y_train3, y_test3 = train_test_split(X3, y3, test_size=0.3) # Splitting train test with 70:30 ratio"
   ]
  },
  {
   "cell_type": "code",
   "execution_count": 47,
   "metadata": {},
   "outputs": [],
   "source": [
    "# Splitting the train data into train and cross validation sets\n",
    "\n",
    "X_tr3, X_CV3, y_tr3, y_CV3 = train_test_split(X_train3, y_train3, test_size=0.3) # Splitting train cross-val with 70:30 ratio"
   ]
  },
  {
   "cell_type": "code",
   "execution_count": 48,
   "metadata": {},
   "outputs": [],
   "source": [
    "\n",
    "from sklearn.ensemble import RandomForestClassifier\n",
    "from sklearn.metrics import accuracy_score\n",
    "\n",
    "# We have taken the following values for 'alpha'\n",
    "estimators = [10,50,100,200]\n",
    "accuracy_scores_tfidfw2vec = []\n",
    "\n",
    "for i in estimators:\n",
    "    rf_tfidfw2vec = RandomForestClassifier(n_estimators=i)\n",
    "    rf_tfidfw2vec.fit(X_tr3, y_tr3)\n",
    "    pred_tfidfw2vec = rf_tfidfw2vec.predict(X_CV3)\n",
    "    \n",
    "    # evaluate CV accuracy\n",
    "    acc_tfidfw2vec = accuracy_score(y_CV3, pred_tfidfw2vec, normalize=True) # * float(100)\n",
    "    accuracy_scores_tfidfw2vec.append(acc_tfidfw2vec)"
   ]
  },
  {
   "cell_type": "code",
   "execution_count": 50,
   "metadata": {},
   "outputs": [
    {
     "name": "stdout",
     "output_type": "stream",
     "text": [
      "\n",
      "The optimal depth is 100.\n"
     ]
    },
    {
     "data": {
      "image/png": "[encoded data removed]",
      "text/plain": [
       "<matplotlib.figure.Figure at 0x38cad2e8>"
      ]
     },
     "metadata": {},
     "output_type": "display_data"
    },
    {
     "name": "stdout",
     "output_type": "stream",
     "text": [
      "the misclassification error for each estimator value is :  [0.17  0.157 0.156 0.156]\n"
     ]
    }
   ],
   "source": [
    "# Calculating the miss-classification error\n",
    "MissClErrtfidfW2Vec = [1-x for x in accuracy_scores_tfidfw2vec]\n",
    "\n",
    "# determining the best depth\n",
    "optimal_estimators = estimators[MissClErrtfidfW2Vec.index(min(MissClErrtfidfW2Vec))]\n",
    "print('\\nThe optimal depth is %d.' % optimal_estimators)\n",
    "\n",
    "# importing matplotlib\n",
    "import matplotlib.pyplot as plt\n",
    "\n",
    "plt.plot(estimators,MissClErrtfidfW2Vec)\n",
    "\n",
    "for xy in zip(estimators, np.round(MissClErrtfidfW2Vec,3)):\n",
    "    plt.annotate('(%s, %s)' % xy, xy=xy, textcoords='data')\n",
    "\n",
    "plt.xlabel('Estimators')\n",
    "plt.ylabel('Misclassification Error')\n",
    "plt.show()\n",
    "\n",
    "print(\"the misclassification error for each estimator value is : \", np.round(MissClErrtfidfW2Vec,3))"
   ]
  },
  {
   "cell_type": "markdown",
   "metadata": {},
   "source": [
    "# We can see that for the estimator value of 100 we get the minimum missclassification error."
   ]
  },
  {
   "cell_type": "markdown",
   "metadata": {},
   "source": [
    "# Creating a Random Forest model with avgW2Vec text representation with an estimator value of 100"
   ]
  },
  {
   "cell_type": "code",
   "execution_count": 51,
   "metadata": {},
   "outputs": [
    {
     "name": "stdout",
     "output_type": "stream",
     "text": [
      "\n",
      "The accuracy of the Random Forest Classifier for depth = 100 is 84.738243%\n"
     ]
    }
   ],
   "source": [
    "rf_tfidfw2vec = RandomForestClassifier(n_estimators=100)\n",
    "rf_tfidfw2vec.fit(X_tr3, y_tr3)\n",
    "pred_tfidfw2vec = rf_tfidfw2vec.predict(X_test3)\n",
    "\n",
    "# evaluate CV accuracy\n",
    "acc_tfidf = accuracy_score(y_test3, pred_tfidfw2vec, normalize=True) * float(100)\n",
    "\n",
    "print('\\nThe accuracy of the Random Forest Classifier for depth = %d is %f%%' % (optimal_estimators, acc_tfidf))"
   ]
  },
  {
   "cell_type": "markdown",
   "metadata": {},
   "source": [
    "# In this problem we have applied the Random Forest Classifier to the data. We have only considered data in the form of BoW, AvgW2Vec and TF-IDF W2Vec.\n",
    "\n",
    "# We have not considered the TF-IDF representation because the time-complexity was very large as observed while running the operations on the data.\n",
    "\n",
    "# Following results have been observed for the data using the available text representations."
   ]
  },
  {
   "cell_type": "raw",
   "metadata": {},
   "source": [
    "1. BoW representation, depth =  100, accuracy = 86.62%. \n",
    "2. AvgW2Vec representation, depth =  100, accuracy = 84.40%.\n",
    "3. TF-IDFW2Vec representation, depth =  100, accuracy = 84.73%."
   ]
  },
  {
   "cell_type": "markdown",
   "metadata": {},
   "source": [
    "# From the results we can observe that even though the time complexity for BoW representations is high, the accuracy we get on the test data for BoW is also the highest, which is 86.62%. If we had used Tf-IDF as well we might have got a more high accuracy."
   ]
  },
  {
   "cell_type": "code",
   "execution_count": null,
   "metadata": {},
   "outputs": [],
   "source": []
  }
 ],
 "metadata": {
  "kernelspec": {
   "display_name": "Python 3",
   "language": "python",
   "name": "python3"
  },
  "language_info": {
   "codemirror_mode": {
    "name": "ipython",
    "version": 3
   },
   "file_extension": ".py",
   "mimetype": "text/x-python",
   "name": "python",
   "nbconvert_exporter": "python",
   "pygments_lexer": "ipython3",
   "version": "3.6.4"
  }
 },
 "nbformat": 4,
 "nbformat_minor": 2
}
